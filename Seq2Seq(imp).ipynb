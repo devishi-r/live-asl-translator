{
 "cells": [
  {
   "cell_type": "markdown",
   "id": "b20a5213-3e27-4a14-b0bf-703aa3d6c41d",
   "metadata": {},
   "source": [
    "## Seq2Seq mapping"
   ]
  },
  {
   "cell_type": "code",
   "execution_count": 2,
   "id": "db9c6298-d4a4-4cb3-b5be-739c6dd217fb",
   "metadata": {},
   "outputs": [
    {
     "name": "stdout",
     "output_type": "stream",
     "text": [
      "WARNING:tensorflow:From c:\\Users\\devis\\AppData\\Local\\Programs\\Python\\Python311\\Lib\\site-packages\\keras\\src\\losses.py:2976: The name tf.losses.sparse_softmax_cross_entropy is deprecated. Please use tf.compat.v1.losses.sparse_softmax_cross_entropy instead.\n",
      "\n"
     ]
    }
   ],
   "source": [
    "import tensorflow as tf\n",
    "import pandas as pd\n",
    "import numpy as np\n",
    "from tensorflow.keras.models import Model\n",
    "from tensorflow.keras.layers import Input, LSTM, Dense"
   ]
  },
  {
   "cell_type": "code",
   "execution_count": 3,
   "id": "3742d4bd-67c9-46ad-b3f7-59b22fd9ceec",
   "metadata": {},
   "outputs": [],
   "source": [
    "# Load the dataset\n",
    "df = pd.read_csv('train.csv')"
   ]
  },
  {
   "cell_type": "code",
   "execution_count": 4,
   "id": "2ff95c8e-175f-4c6d-939c-7a6cb75f2b98",
   "metadata": {},
   "outputs": [
    {
     "data": {
      "text/html": [
       "<div>\n",
       "<style scoped>\n",
       "    .dataframe tbody tr th:only-of-type {\n",
       "        vertical-align: middle;\n",
       "    }\n",
       "\n",
       "    .dataframe tbody tr th {\n",
       "        vertical-align: top;\n",
       "    }\n",
       "\n",
       "    .dataframe thead th {\n",
       "        text-align: right;\n",
       "    }\n",
       "</style>\n",
       "<table border=\"1\" class=\"dataframe\">\n",
       "  <thead>\n",
       "    <tr style=\"text-align: right;\">\n",
       "      <th></th>\n",
       "      <th>gloss</th>\n",
       "      <th>text</th>\n",
       "    </tr>\n",
       "  </thead>\n",
       "  <tbody>\n",
       "    <tr>\n",
       "      <th>0</th>\n",
       "      <td>﻿MEMBERSHIP PARLIAMENT SEE MINUTE\\n</td>\n",
       "      <td>﻿membership of parliament see minutes\\n</td>\n",
       "    </tr>\n",
       "    <tr>\n",
       "      <th>1</th>\n",
       "      <td>APPROVAL MINUTE DESC-PREVIOUS SIT SEE MINUTE\\n</td>\n",
       "      <td>approval of minutes of previous sitting see mi...</td>\n",
       "    </tr>\n",
       "    <tr>\n",
       "      <th>2</th>\n",
       "      <td>MEMBERSHIP PARLIAMENT SEE MINUTE\\n</td>\n",
       "      <td>membership of parliament see minutes\\n</td>\n",
       "    </tr>\n",
       "    <tr>\n",
       "      <th>3</th>\n",
       "      <td>VERIFICATION CREDENTIALS SEE MINUTE\\n</td>\n",
       "      <td>verification of credentials see minutes\\n</td>\n",
       "    </tr>\n",
       "    <tr>\n",
       "      <th>4</th>\n",
       "      <td>DOCUMENT RECEIVE SEE MINUTE\\n</td>\n",
       "      <td>documents received see minutes\\n</td>\n",
       "    </tr>\n",
       "  </tbody>\n",
       "</table>\n",
       "</div>"
      ],
      "text/plain": [
       "                                            gloss  \\\n",
       "0             ﻿MEMBERSHIP PARLIAMENT SEE MINUTE\\n   \n",
       "1  APPROVAL MINUTE DESC-PREVIOUS SIT SEE MINUTE\\n   \n",
       "2              MEMBERSHIP PARLIAMENT SEE MINUTE\\n   \n",
       "3           VERIFICATION CREDENTIALS SEE MINUTE\\n   \n",
       "4                   DOCUMENT RECEIVE SEE MINUTE\\n   \n",
       "\n",
       "                                                text  \n",
       "0            ﻿membership of parliament see minutes\\n  \n",
       "1  approval of minutes of previous sitting see mi...  \n",
       "2             membership of parliament see minutes\\n  \n",
       "3          verification of credentials see minutes\\n  \n",
       "4                   documents received see minutes\\n  "
      ]
     },
     "execution_count": 4,
     "metadata": {},
     "output_type": "execute_result"
    }
   ],
   "source": [
    "df.head()"
   ]
  },
  {
   "cell_type": "code",
   "execution_count": 5,
   "id": "3e2d48be-01c4-4fa1-b8d9-4a252ef62014",
   "metadata": {},
   "outputs": [
    {
     "data": {
      "text/plain": [
       "gloss    0\n",
       "text     0\n",
       "dtype: int64"
      ]
     },
     "execution_count": 5,
     "metadata": {},
     "output_type": "execute_result"
    }
   ],
   "source": [
    "df.isnull().sum()"
   ]
  },
  {
   "cell_type": "code",
   "execution_count": 6,
   "id": "37795009-7b36-49a3-a372-e28e3395ca1e",
   "metadata": {},
   "outputs": [
    {
     "data": {
      "text/html": [
       "<div>\n",
       "<style scoped>\n",
       "    .dataframe tbody tr th:only-of-type {\n",
       "        vertical-align: middle;\n",
       "    }\n",
       "\n",
       "    .dataframe tbody tr th {\n",
       "        vertical-align: top;\n",
       "    }\n",
       "\n",
       "    .dataframe thead th {\n",
       "        text-align: right;\n",
       "    }\n",
       "</style>\n",
       "<table border=\"1\" class=\"dataframe\">\n",
       "  <thead>\n",
       "    <tr style=\"text-align: right;\">\n",
       "      <th></th>\n",
       "      <th>gloss</th>\n",
       "      <th>text</th>\n",
       "    </tr>\n",
       "  </thead>\n",
       "  <tbody>\n",
       "    <tr>\n",
       "      <th>count</th>\n",
       "      <td>87710</td>\n",
       "      <td>87710</td>\n",
       "    </tr>\n",
       "    <tr>\n",
       "      <th>unique</th>\n",
       "      <td>81016</td>\n",
       "      <td>81123</td>\n",
       "    </tr>\n",
       "    <tr>\n",
       "      <th>top</th>\n",
       "      <td>APPLAUSE\\n</td>\n",
       "      <td>applause \\n</td>\n",
       "    </tr>\n",
       "    <tr>\n",
       "      <th>freq</th>\n",
       "      <td>595</td>\n",
       "      <td>595</td>\n",
       "    </tr>\n",
       "  </tbody>\n",
       "</table>\n",
       "</div>"
      ],
      "text/plain": [
       "             gloss         text\n",
       "count        87710        87710\n",
       "unique       81016        81123\n",
       "top     APPLAUSE\\n  applause \\n\n",
       "freq           595          595"
      ]
     },
     "execution_count": 6,
     "metadata": {},
     "output_type": "execute_result"
    }
   ],
   "source": [
    "df.describe(include=\"all\")"
   ]
  },
  {
   "cell_type": "code",
   "execution_count": 7,
   "id": "5f5d50bf-19dc-45af-b2c3-a0f9e04fb618",
   "metadata": {},
   "outputs": [
    {
     "data": {
      "text/plain": [
       "(87710, 2)"
      ]
     },
     "execution_count": 7,
     "metadata": {},
     "output_type": "execute_result"
    }
   ],
   "source": [
    "df.shape"
   ]
  },
  {
   "cell_type": "code",
   "execution_count": 8,
   "id": "332d3b41-3e41-4f43-99f1-115a111f416c",
   "metadata": {},
   "outputs": [],
   "source": [
    "def remove_n(inp):\n",
    "    return inp.replace(\"\\n\", \"\")"
   ]
  },
  {
   "cell_type": "code",
   "execution_count": 9,
   "id": "12c96e18-30d9-4e9d-82d5-ac22b8bce974",
   "metadata": {},
   "outputs": [],
   "source": [
    "df[\"gloss\"]=df[\"gloss\"].apply(remove_n)"
   ]
  },
  {
   "cell_type": "code",
   "execution_count": 10,
   "id": "efe5d294-7db8-4e05-bbbc-67bf177eb6fa",
   "metadata": {},
   "outputs": [
    {
     "data": {
      "text/html": [
       "<div>\n",
       "<style scoped>\n",
       "    .dataframe tbody tr th:only-of-type {\n",
       "        vertical-align: middle;\n",
       "    }\n",
       "\n",
       "    .dataframe tbody tr th {\n",
       "        vertical-align: top;\n",
       "    }\n",
       "\n",
       "    .dataframe thead th {\n",
       "        text-align: right;\n",
       "    }\n",
       "</style>\n",
       "<table border=\"1\" class=\"dataframe\">\n",
       "  <thead>\n",
       "    <tr style=\"text-align: right;\">\n",
       "      <th></th>\n",
       "      <th>gloss</th>\n",
       "      <th>text</th>\n",
       "    </tr>\n",
       "  </thead>\n",
       "  <tbody>\n",
       "    <tr>\n",
       "      <th>0</th>\n",
       "      <td>﻿MEMBERSHIP PARLIAMENT SEE MINUTE</td>\n",
       "      <td>﻿membership of parliament see minutes\\n</td>\n",
       "    </tr>\n",
       "    <tr>\n",
       "      <th>1</th>\n",
       "      <td>APPROVAL MINUTE DESC-PREVIOUS SIT SEE MINUTE</td>\n",
       "      <td>approval of minutes of previous sitting see mi...</td>\n",
       "    </tr>\n",
       "    <tr>\n",
       "      <th>2</th>\n",
       "      <td>MEMBERSHIP PARLIAMENT SEE MINUTE</td>\n",
       "      <td>membership of parliament see minutes\\n</td>\n",
       "    </tr>\n",
       "    <tr>\n",
       "      <th>3</th>\n",
       "      <td>VERIFICATION CREDENTIALS SEE MINUTE</td>\n",
       "      <td>verification of credentials see minutes\\n</td>\n",
       "    </tr>\n",
       "    <tr>\n",
       "      <th>4</th>\n",
       "      <td>DOCUMENT RECEIVE SEE MINUTE</td>\n",
       "      <td>documents received see minutes\\n</td>\n",
       "    </tr>\n",
       "  </tbody>\n",
       "</table>\n",
       "</div>"
      ],
      "text/plain": [
       "                                          gloss  \\\n",
       "0             ﻿MEMBERSHIP PARLIAMENT SEE MINUTE   \n",
       "1  APPROVAL MINUTE DESC-PREVIOUS SIT SEE MINUTE   \n",
       "2              MEMBERSHIP PARLIAMENT SEE MINUTE   \n",
       "3           VERIFICATION CREDENTIALS SEE MINUTE   \n",
       "4                   DOCUMENT RECEIVE SEE MINUTE   \n",
       "\n",
       "                                                text  \n",
       "0            ﻿membership of parliament see minutes\\n  \n",
       "1  approval of minutes of previous sitting see mi...  \n",
       "2             membership of parliament see minutes\\n  \n",
       "3          verification of credentials see minutes\\n  \n",
       "4                   documents received see minutes\\n  "
      ]
     },
     "execution_count": 10,
     "metadata": {},
     "output_type": "execute_result"
    }
   ],
   "source": [
    "df.head()"
   ]
  },
  {
   "cell_type": "code",
   "execution_count": 11,
   "id": "08714756-8a6a-41f8-84e1-fa477028fae4",
   "metadata": {},
   "outputs": [],
   "source": [
    "df[\"text\"]=df[\"text\"].apply(remove_n)"
   ]
  },
  {
   "cell_type": "code",
   "execution_count": 12,
   "id": "92cca98f-b642-44c0-84de-a459f16c0b7a",
   "metadata": {},
   "outputs": [
    {
     "data": {
      "text/html": [
       "<div>\n",
       "<style scoped>\n",
       "    .dataframe tbody tr th:only-of-type {\n",
       "        vertical-align: middle;\n",
       "    }\n",
       "\n",
       "    .dataframe tbody tr th {\n",
       "        vertical-align: top;\n",
       "    }\n",
       "\n",
       "    .dataframe thead th {\n",
       "        text-align: right;\n",
       "    }\n",
       "</style>\n",
       "<table border=\"1\" class=\"dataframe\">\n",
       "  <thead>\n",
       "    <tr style=\"text-align: right;\">\n",
       "      <th></th>\n",
       "      <th>gloss</th>\n",
       "      <th>text</th>\n",
       "    </tr>\n",
       "  </thead>\n",
       "  <tbody>\n",
       "    <tr>\n",
       "      <th>0</th>\n",
       "      <td>﻿MEMBERSHIP PARLIAMENT SEE MINUTE</td>\n",
       "      <td>﻿membership of parliament see minutes</td>\n",
       "    </tr>\n",
       "    <tr>\n",
       "      <th>1</th>\n",
       "      <td>APPROVAL MINUTE DESC-PREVIOUS SIT SEE MINUTE</td>\n",
       "      <td>approval of minutes of previous sitting see mi...</td>\n",
       "    </tr>\n",
       "    <tr>\n",
       "      <th>2</th>\n",
       "      <td>MEMBERSHIP PARLIAMENT SEE MINUTE</td>\n",
       "      <td>membership of parliament see minutes</td>\n",
       "    </tr>\n",
       "    <tr>\n",
       "      <th>3</th>\n",
       "      <td>VERIFICATION CREDENTIALS SEE MINUTE</td>\n",
       "      <td>verification of credentials see minutes</td>\n",
       "    </tr>\n",
       "    <tr>\n",
       "      <th>4</th>\n",
       "      <td>DOCUMENT RECEIVE SEE MINUTE</td>\n",
       "      <td>documents received see minutes</td>\n",
       "    </tr>\n",
       "  </tbody>\n",
       "</table>\n",
       "</div>"
      ],
      "text/plain": [
       "                                          gloss  \\\n",
       "0             ﻿MEMBERSHIP PARLIAMENT SEE MINUTE   \n",
       "1  APPROVAL MINUTE DESC-PREVIOUS SIT SEE MINUTE   \n",
       "2              MEMBERSHIP PARLIAMENT SEE MINUTE   \n",
       "3           VERIFICATION CREDENTIALS SEE MINUTE   \n",
       "4                   DOCUMENT RECEIVE SEE MINUTE   \n",
       "\n",
       "                                                text  \n",
       "0              ﻿membership of parliament see minutes  \n",
       "1  approval of minutes of previous sitting see mi...  \n",
       "2               membership of parliament see minutes  \n",
       "3            verification of credentials see minutes  \n",
       "4                     documents received see minutes  "
      ]
     },
     "execution_count": 12,
     "metadata": {},
     "output_type": "execute_result"
    }
   ],
   "source": [
    "df.head()"
   ]
  },
  {
   "cell_type": "code",
   "execution_count": 13,
   "id": "a1c781c7-d87d-4869-9b20-0f44d943396f",
   "metadata": {},
   "outputs": [],
   "source": [
    "from tensorflow.keras.preprocessing.text import Tokenizer\n",
    "from tensorflow.keras.preprocessing.sequence import pad_sequences\n",
    "from sklearn.model_selection import train_test_split"
   ]
  },
  {
   "cell_type": "code",
   "execution_count": 14,
   "id": "51d0637c-c496-4d7c-a6d8-08b675db57bb",
   "metadata": {},
   "outputs": [],
   "source": [
    "text_texts=df[\"text\"].values\n",
    "gloss_texts=df[\"gloss\"].values\n",
    "text_texts = ['<start> ' + sentence + ' <end>' for sentence in text_texts]\n",
    "gloss_texts = ['<start>' + sentence + ' <end>' for sentence in gloss_texts]"
   ]
  },
  {
   "cell_type": "code",
   "execution_count": 15,
   "id": "4e39963e-d945-4063-8be4-4d4fd85693f7",
   "metadata": {},
   "outputs": [],
   "source": [
    "text_tokenizer = Tokenizer()\n",
    "text_tokenizer.fit_on_texts(text_texts)\n",
    "text_vocab_size = len(text_tokenizer.word_index) + 1\n",
    "text_sequences = text_tokenizer.texts_to_sequences(text_texts)"
   ]
  },
  {
   "cell_type": "code",
   "execution_count": 16,
   "id": "8d53373d-c967-412b-8758-cd3393785444",
   "metadata": {},
   "outputs": [],
   "source": [
    "gloss_tokenizer = Tokenizer()\n",
    "gloss_tokenizer.fit_on_texts(gloss_texts)\n",
    "gloss_vocab_size = len(gloss_tokenizer.word_index) + 1\n",
    "gloss_sequences = gloss_tokenizer.texts_to_sequences(gloss_texts)"
   ]
  },
  {
   "cell_type": "code",
   "execution_count": 17,
   "id": "8c1f1c8c-fde3-42c3-94a2-1ebc68daba73",
   "metadata": {},
   "outputs": [],
   "source": [
    "max_text_seq_length = max([len(seq) for seq in text_sequences])\n",
    "max_gloss_seq_length = max([len(seq) for seq in gloss_sequences])\n",
    "\n",
    "text_sequences = pad_sequences(text_sequences, maxlen=max_text_seq_length, padding='post')\n",
    "gloss_sequences = pad_sequences(gloss_sequences, maxlen=max_gloss_seq_length, padding='post')"
   ]
  },
  {
   "cell_type": "code",
   "execution_count": 18,
   "id": "a5ce6768-3cc0-4c13-a837-014233763dfd",
   "metadata": {},
   "outputs": [],
   "source": [
    "# Split data into training and validation sets\n",
    "encoder_input_data, encoder_input_data_val, decoder_input_data, decoder_input_data_val = train_test_split(\n",
    "    text_sequences, gloss_sequences, test_size=0.2)\n",
    "\n",
    "# Create decoder target data\n",
    "decoder_target_data = np.zeros_like(decoder_input_data)\n",
    "decoder_target_data[:, :-1] = decoder_input_data[:, 1:]\n",
    "#decoder_target_data[:, -1] = gloss_tokenizer.word_index['<end>']  # Ensure you have an end token\n",
    "\n",
    "decoder_target_data_val = np.zeros_like(decoder_input_data_val)\n",
    "decoder_target_data_val[:, :-1] = decoder_input_data_val[:, 1:]\n",
    "#decoder_target_data_val[:, -1] = gloss_tokenizer.word_index['<end>']  # Ensure you have an end token"
   ]
  },
  {
   "cell_type": "code",
   "execution_count": 19,
   "id": "710d5fe9-1524-4477-bde4-de4bb91f7227",
   "metadata": {},
   "outputs": [
    {
     "name": "stdout",
     "output_type": "stream",
     "text": [
      "WARNING:tensorflow:From c:\\Users\\devis\\AppData\\Local\\Programs\\Python\\Python311\\Lib\\site-packages\\keras\\src\\backend.py:1398: The name tf.executing_eagerly_outside_functions is deprecated. Please use tf.compat.v1.executing_eagerly_outside_functions instead.\n",
      "\n",
      "WARNING:tensorflow:From c:\\Users\\devis\\AppData\\Local\\Programs\\Python\\Python311\\Lib\\site-packages\\keras\\src\\optimizers\\__init__.py:309: The name tf.train.Optimizer is deprecated. Please use tf.compat.v1.train.Optimizer instead.\n",
      "\n",
      "WARNING:tensorflow:From c:\\Users\\devis\\AppData\\Local\\Programs\\Python\\Python311\\Lib\\site-packages\\keras\\src\\utils\\tf_utils.py:492: The name tf.ragged.RaggedTensorValue is deprecated. Please use tf.compat.v1.ragged.RaggedTensorValue instead.\n",
      "\n",
      "1097/1097 [==============================] - 1006s 907ms/step - loss: 5.1408 - val_loss: 4.5575\n"
     ]
    },
    {
     "data": {
      "text/plain": [
       "<keras.src.callbacks.History at 0x2aa523af010>"
      ]
     },
     "execution_count": 19,
     "metadata": {},
     "output_type": "execute_result"
    }
   ],
   "source": [
    "import tensorflow as tf\n",
    "from tensorflow.keras.models import Model\n",
    "from tensorflow.keras.layers import Input, LSTM, Dense, Embedding\n",
    "\n",
    "# Define the dimensions\n",
    "latent_dim = 256\n",
    "\n",
    "# Define the encoder\n",
    "encoder_inputs = Input(shape=(None,))\n",
    "encoder_embedding = Embedding(text_vocab_size, latent_dim, mask_zero=True)(encoder_inputs)\n",
    "encoder_lstm = LSTM(latent_dim, return_state=True)\n",
    "encoder_outputs, state_h, state_c = encoder_lstm(encoder_embedding)\n",
    "encoder_states = [state_h, state_c]\n",
    "\n",
    "# Define the decoder\n",
    "decoder_inputs = Input(shape=(None,))\n",
    "decoder_embedding = Embedding(gloss_vocab_size, latent_dim, mask_zero=True)(decoder_inputs)\n",
    "decoder_lstm = LSTM(latent_dim, return_sequences=True, return_state=True)\n",
    "decoder_outputs, _, _ = decoder_lstm(decoder_embedding, initial_state=encoder_states)\n",
    "decoder_dense = Dense(gloss_vocab_size, activation='softmax')\n",
    "decoder_outputs = decoder_dense(decoder_outputs)\n",
    "\n",
    "# Define the Seq2Seq model\n",
    "model = Model([encoder_inputs, decoder_inputs], decoder_outputs)\n",
    "\n",
    "# Compile the model\n",
    "model.compile(optimizer='rmsprop', loss='sparse_categorical_crossentropy')\n",
    "\n",
    "# Train the model\n",
    "model.fit([encoder_input_data, decoder_input_data], decoder_target_data,\n",
    "          batch_size=64, epochs=1, validation_data=([encoder_input_data_val, decoder_input_data_val], decoder_target_data_val))\n"
   ]
  },
  {
   "cell_type": "code",
   "execution_count": 1,
   "id": "c03966e1-cee5-4add-a201-0c5ff2d54894",
   "metadata": {},
   "outputs": [
    {
     "ename": "NameError",
     "evalue": "name 'Model' is not defined",
     "output_type": "error",
     "traceback": [
      "\u001b[1;31m---------------------------------------------------------------------------\u001b[0m",
      "\u001b[1;31mNameError\u001b[0m                                 Traceback (most recent call last)",
      "Cell \u001b[1;32mIn[1], line 3\u001b[0m\n\u001b[0;32m      1\u001b[0m \u001b[38;5;66;03m# Define sampling models for inference\u001b[39;00m\n\u001b[0;32m      2\u001b[0m \u001b[38;5;66;03m# Encoder model for inference\u001b[39;00m\n\u001b[1;32m----> 3\u001b[0m encoder_model \u001b[38;5;241m=\u001b[39m \u001b[43mModel\u001b[49m(encoder_inputs, encoder_states)\n\u001b[0;32m      5\u001b[0m \u001b[38;5;66;03m# Decoder model for inference\u001b[39;00m\n\u001b[0;32m      6\u001b[0m decoder_state_input_h \u001b[38;5;241m=\u001b[39m Input(shape\u001b[38;5;241m=\u001b[39m(latent_dim,))\n",
      "\u001b[1;31mNameError\u001b[0m: name 'Model' is not defined"
     ]
    }
   ],
   "source": [
    "# Necessary imports\n",
    "import numpy as np\n",
    "from tensorflow.keras.models import Model\n",
    "from tensorflow.keras.layers import Input, LSTM, Dense, Embedding\n",
    "\n",
    "# Assuming these variables are defined elsewhere in your script\n",
    "# Define these variables based on your actual data and model parameters\n",
    "latent_dim = 256\n",
    "gloss_vocab_size = 5000  # Example size, replace with your actual vocab size\n",
    "encoder_inputs = Input(shape=(None,))  # Shape should match your input shape\n",
    "decoder_inputs = Input(shape=(None,))  # Shape should match your input shape\n",
    "\n",
    "# Define the encoder LSTM\n",
    "encoder_lstm = LSTM(latent_dim, return_state=True)\n",
    "_, state_h, state_c = encoder_lstm(encoder_inputs)\n",
    "encoder_states = [state_h, state_c]\n",
    "\n",
    "# Encoder model for inference\n",
    "encoder_model = Model(encoder_inputs, encoder_states)\n",
    "\n",
    "# Define the decoder LSTM\n",
    "decoder_lstm = LSTM(latent_dim, return_sequences=True, return_state=True)\n",
    "decoder_dense = Dense(gloss_vocab_size, activation='softmax')\n",
    "\n",
    "# Decoder model for inference\n",
    "decoder_state_input_h = Input(shape=(latent_dim,))\n",
    "decoder_state_input_c = Input(shape=(latent_dim,))\n",
    "decoder_states_inputs = [decoder_state_input_h, decoder_state_input_c]\n",
    "\n",
    "decoder_embedding_inf = Embedding(gloss_vocab_size, latent_dim, mask_zero=True)(decoder_inputs)\n",
    "decoder_outputs, state_h, state_c = decoder_lstm(\n",
    "    decoder_embedding_inf, initial_state=decoder_states_inputs)\n",
    "decoder_states = [state_h, state_c]\n",
    "decoder_outputs = decoder_dense(decoder_outputs)\n",
    "decoder_model = Model(\n",
    "    [decoder_inputs] + decoder_states_inputs,\n",
    "    [decoder_outputs] + decoder_states)\n",
    "\n",
    "# Reverse word index for decoding\n",
    "reverse_text_word_index = {i: word for word, i in text_tokenizer.word_index.items()}\n",
    "reverse_gloss_word_index = {i: word for word, i in gloss_tokenizer.word_index.items()}\n",
    "\n",
    "max_seq_length = 400\n",
    "\n",
    "# Function to decode the sequence\n",
    "def decode_sequence(input_seq):\n",
    "    # Encode the input as state vectors.\n",
    "    states_value = encoder_model.predict(input_seq)\n",
    "    \n",
    "    # Generate empty target sequence of length 1.\n",
    "    target_seq = np.zeros((1, 1))\n",
    "    # Populate the first token of target sequence with the start token.\n",
    "    # target_seq[0, 0] = gloss_tokenizer.word_index['<start>']\n",
    "\n",
    "    # Sampling loop for a batch of sequences\n",
    "    stop_condition = False\n",
    "    decoded_sentence = ''\n",
    "    while not stop_condition:\n",
    "        output_tokens, h, c = decoder_model.predict(\n",
    "            [target_seq] + states_value)\n",
    "\n",
    "        # Sample a token\n",
    "        sampled_token_index = np.argmax(output_tokens[0, -1, :])\n",
    "        sampled_char = reverse_gloss_word_index.get(sampled_token_index, '')\n",
    "        decoded_sentence += ' ' + sampled_char\n",
    "\n",
    "        # Exit condition: either hit max length or find stop character.\n",
    "        if (sampled_char == '<end>' or len(decoded_sentence) > max_seq_length):\n",
    "            stop_condition = True\n",
    "\n",
    "        # Update the target sequence (of length 1).\n",
    "        target_seq = np.zeros((1, 1))\n",
    "        target_seq[0, 0] = sampled_token_index\n",
    "\n",
    "        # Update states\n",
    "        states_value = [h, c]\n",
    "\n",
    "    return decoded_sentence.strip()\n",
    "\n",
    "# Example of using the inference function\n",
    "input_seq = encoder_input_data[1:2]  # Taking the first sequence for translation\n",
    "translation = decode_sequence(input_seq)\n",
    "print('Encoded:', translation)\n"
   ]
  }
 ],
 "metadata": {
  "kernelspec": {
   "display_name": "Python 3 (ipykernel)",
   "language": "python",
   "name": "python3"
  },
  "language_info": {
   "codemirror_mode": {
    "name": "ipython",
    "version": 3
   },
   "file_extension": ".py",
   "mimetype": "text/x-python",
   "name": "python",
   "nbconvert_exporter": "python",
   "pygments_lexer": "ipython3",
   "version": "3.11.5"
  }
 },
 "nbformat": 4,
 "nbformat_minor": 5
}
